{
 "cells": [
  {
   "cell_type": "code",
   "execution_count": 1,
   "id": "e07fd7b8",
   "metadata": {},
   "outputs": [],
   "source": [
    "import csvkit"
   ]
  },
  {
   "cell_type": "code",
   "execution_count": 2,
   "id": "a202f413",
   "metadata": {},
   "outputs": [
    {
     "name": "stdout",
     "output_type": "stream",
     "text": [
      "Collecting csvkit\n",
      "  Downloading csvkit-1.1.0-py2.py3-none-any.whl (42 kB)\n",
      "     --------------------------------------- 42.1/42.1 kB 62.0 kB/s eta 0:00:00\n",
      "Collecting agate>=1.6.1\n",
      "  Downloading agate-1.7.1-py2.py3-none-any.whl (97 kB)\n",
      "     -------------------------------------- 97.1/97.1 kB 797.3 kB/s eta 0:00:00\n",
      "Collecting agate-excel>=0.2.2\n",
      "  Downloading agate_excel-0.2.5-py2.py3-none-any.whl (7.1 kB)\n",
      "Collecting agate-dbf>=0.2.2\n",
      "  Downloading agate_dbf-0.2.2-py2.py3-none-any.whl (3.5 kB)\n",
      "Collecting agate-sql>=0.5.3\n",
      "  Downloading agate_sql-0.5.9-py2.py3-none-any.whl (7.2 kB)\n",
      "Collecting parsedatetime!=2.5,>=2.1\n",
      "  Downloading parsedatetime-2.6-py3-none-any.whl (42 kB)\n",
      "     -------------------------------------- 42.5/42.5 kB 414.2 kB/s eta 0:00:00\n",
      "Collecting pytimeparse>=1.1.5\n",
      "  Downloading pytimeparse-1.1.8-py2.py3-none-any.whl (10.0 kB)\n",
      "Requirement already satisfied: python-slugify>=1.2.1 in c:\\users\\mswin\\anaconda3\\lib\\site-packages (from agate>=1.6.1->csvkit) (5.0.2)\n",
      "Collecting leather>=0.3.2\n",
      "  Downloading leather-0.3.4-py2.py3-none-any.whl (31 kB)\n",
      "Collecting isodate>=0.5.4\n",
      "  Downloading isodate-0.6.1-py2.py3-none-any.whl (41 kB)\n",
      "     ---------------------------------------- 41.7/41.7 kB 2.1 MB/s eta 0:00:00\n",
      "Requirement already satisfied: Babel>=2.0 in c:\\users\\mswin\\anaconda3\\lib\\site-packages (from agate>=1.6.1->csvkit) (2.9.1)\n",
      "Collecting dbfread>=2.0.5\n",
      "  Downloading dbfread-2.0.7-py2.py3-none-any.whl (20 kB)\n",
      "Requirement already satisfied: olefile in c:\\users\\mswin\\anaconda3\\lib\\site-packages (from agate-excel>=0.2.2->csvkit) (0.46)\n",
      "Requirement already satisfied: openpyxl>=2.3.0 in c:\\users\\mswin\\anaconda3\\lib\\site-packages (from agate-excel>=0.2.2->csvkit) (3.0.10)\n",
      "Requirement already satisfied: xlrd>=0.9.4 in c:\\users\\mswin\\anaconda3\\lib\\site-packages (from agate-excel>=0.2.2->csvkit) (2.0.1)\n",
      "Requirement already satisfied: six in c:\\users\\mswin\\anaconda3\\lib\\site-packages (from agate-excel>=0.2.2->csvkit) (1.16.0)\n",
      "Requirement already satisfied: sqlalchemy<2 in c:\\users\\mswin\\anaconda3\\lib\\site-packages (from agate-sql>=0.5.3->csvkit) (1.4.39)\n",
      "Requirement already satisfied: pytz>=2015.7 in c:\\users\\mswin\\anaconda3\\lib\\site-packages (from Babel>=2.0->agate>=1.6.1->csvkit) (2022.1)\n",
      "Requirement already satisfied: et_xmlfile in c:\\users\\mswin\\anaconda3\\lib\\site-packages (from openpyxl>=2.3.0->agate-excel>=0.2.2->csvkit) (1.1.0)\n",
      "Requirement already satisfied: text-unidecode>=1.3 in c:\\users\\mswin\\anaconda3\\lib\\site-packages (from python-slugify>=1.2.1->agate>=1.6.1->csvkit) (1.3)\n",
      "Requirement already satisfied: greenlet!=0.4.17 in c:\\users\\mswin\\anaconda3\\lib\\site-packages (from sqlalchemy<2->agate-sql>=0.5.3->csvkit) (1.1.1)\n",
      "Installing collected packages: pytimeparse, parsedatetime, dbfread, leather, isodate, agate, agate-sql, agate-excel, agate-dbf, csvkit\n",
      "Successfully installed agate-1.7.1 agate-dbf-0.2.2 agate-excel-0.2.5 agate-sql-0.5.9 csvkit-1.1.0 dbfread-2.0.7 isodate-0.6.1 leather-0.3.4 parsedatetime-2.6 pytimeparse-1.1.8\n",
      "Note: you may need to restart the kernel to use updated packages.\n"
     ]
    }
   ],
   "source": [
    "pip install csvkit"
   ]
  },
  {
   "cell_type": "code",
   "execution_count": 2,
   "id": "361fa8e6",
   "metadata": {},
   "outputs": [],
   "source": [
    "#automate table creation\n",
    "#execute below code in Amaconda prompt\n",
    "#csvsql --dialect mysql --snifflimit 100000 2.3_sales_data_final.csv > 2.4output_sales.sql"
   ]
  },
  {
   "cell_type": "code",
   "execution_count": 4,
   "id": "4efe50ea",
   "metadata": {},
   "outputs": [
    {
     "ename": "SyntaxError",
     "evalue": "invalid syntax (1297989560.py, line 1)",
     "output_type": "error",
     "traceback": [
      "\u001b[1;36m  File \u001b[1;32m\"C:\\Users\\mswin\\AppData\\Local\\Temp\\ipykernel_4224\\1297989560.py\"\u001b[1;36m, line \u001b[1;32m1\u001b[0m\n\u001b[1;33m    csvsql --dialect mysql --snifflimit 100000 '2.3_sales_final.csv' > '2.4_output_sales.sql'\u001b[0m\n\u001b[1;37m                     ^\u001b[0m\n\u001b[1;31mSyntaxError\u001b[0m\u001b[1;31m:\u001b[0m invalid syntax\n"
     ]
    }
   ],
   "source": [
    "csvsql --dialect mysql --snifflimit 100000 '2.3_sales_final.csv' > '2.4_output_sales.sql'"
   ]
  },
  {
   "cell_type": "code",
   "execution_count": null,
   "id": "cdcc6d44",
   "metadata": {},
   "outputs": [],
   "source": []
  }
 ],
 "metadata": {
  "kernelspec": {
   "display_name": "Python 3 (ipykernel)",
   "language": "python",
   "name": "python3"
  },
  "language_info": {
   "codemirror_mode": {
    "name": "ipython",
    "version": 3
   },
   "file_extension": ".py",
   "mimetype": "text/x-python",
   "name": "python",
   "nbconvert_exporter": "python",
   "pygments_lexer": "ipython3",
   "version": "3.9.13"
  }
 },
 "nbformat": 4,
 "nbformat_minor": 5
}
